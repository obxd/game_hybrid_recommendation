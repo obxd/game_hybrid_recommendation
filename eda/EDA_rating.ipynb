{
 "cells": [
  {
   "cell_type": "code",
   "execution_count": 1,
   "id": "50f399b8",
   "metadata": {},
   "outputs": [],
   "source": [
    "import pandas as pd\n",
    "import numpy as np\n",
    "import matplotlib.pyplot as plt\n",
    "import seaborn as sns\n",
    "import math\n",
    "import scipy as sp\n",
    "from sklearn.metrics.pairwise import cosine_similarity"
   ]
  },
  {
   "cell_type": "code",
   "execution_count": 2,
   "id": "483ad0bb",
   "metadata": {},
   "outputs": [],
   "source": [
    "df = pd.read_csv(\"../data/dataset2/steam-200k.csv\"\n",
    "                ,usecols=[0,1,2,3],\n",
    "                 names=['user','game_name','behavior','hoursplayed'])\n",
    "df['user'] = df.user.astype(str)"
   ]
  },
  {
   "cell_type": "code",
   "execution_count": 3,
   "id": "4ee0ee05",
   "metadata": {},
   "outputs": [
    {
     "data": {
      "text/html": [
       "<div>\n",
       "<style scoped>\n",
       "    .dataframe tbody tr th:only-of-type {\n",
       "        vertical-align: middle;\n",
       "    }\n",
       "\n",
       "    .dataframe tbody tr th {\n",
       "        vertical-align: top;\n",
       "    }\n",
       "\n",
       "    .dataframe thead th {\n",
       "        text-align: right;\n",
       "    }\n",
       "</style>\n",
       "<table border=\"1\" class=\"dataframe\">\n",
       "  <thead>\n",
       "    <tr style=\"text-align: right;\">\n",
       "      <th></th>\n",
       "      <th>user</th>\n",
       "      <th>game_name</th>\n",
       "      <th>behavior</th>\n",
       "      <th>hoursplayed</th>\n",
       "    </tr>\n",
       "  </thead>\n",
       "  <tbody>\n",
       "    <tr>\n",
       "      <th>0</th>\n",
       "      <td>151603712</td>\n",
       "      <td>The Elder Scrolls V Skyrim</td>\n",
       "      <td>purchase</td>\n",
       "      <td>1.0</td>\n",
       "    </tr>\n",
       "    <tr>\n",
       "      <th>1</th>\n",
       "      <td>151603712</td>\n",
       "      <td>The Elder Scrolls V Skyrim</td>\n",
       "      <td>play</td>\n",
       "      <td>273.0</td>\n",
       "    </tr>\n",
       "    <tr>\n",
       "      <th>2</th>\n",
       "      <td>151603712</td>\n",
       "      <td>Fallout 4</td>\n",
       "      <td>purchase</td>\n",
       "      <td>1.0</td>\n",
       "    </tr>\n",
       "    <tr>\n",
       "      <th>3</th>\n",
       "      <td>151603712</td>\n",
       "      <td>Fallout 4</td>\n",
       "      <td>play</td>\n",
       "      <td>87.0</td>\n",
       "    </tr>\n",
       "    <tr>\n",
       "      <th>4</th>\n",
       "      <td>151603712</td>\n",
       "      <td>Spore</td>\n",
       "      <td>purchase</td>\n",
       "      <td>1.0</td>\n",
       "    </tr>\n",
       "  </tbody>\n",
       "</table>\n",
       "</div>"
      ],
      "text/plain": [
       "        user                   game_name  behavior  hoursplayed\n",
       "0  151603712  The Elder Scrolls V Skyrim  purchase          1.0\n",
       "1  151603712  The Elder Scrolls V Skyrim      play        273.0\n",
       "2  151603712                   Fallout 4  purchase          1.0\n",
       "3  151603712                   Fallout 4      play         87.0\n",
       "4  151603712                       Spore  purchase          1.0"
      ]
     },
     "execution_count": 3,
     "metadata": {},
     "output_type": "execute_result"
    }
   ],
   "source": [
    "df.head()"
   ]
  },
  {
   "cell_type": "code",
   "execution_count": 4,
   "id": "085e6964",
   "metadata": {},
   "outputs": [
    {
     "data": {
      "text/plain": [
       "{'play', 'purchase'}"
      ]
     },
     "execution_count": 4,
     "metadata": {},
     "output_type": "execute_result"
    }
   ],
   "source": [
    "set(df[\"behavior\"])"
   ]
  },
  {
   "cell_type": "code",
   "execution_count": 4,
   "id": "430a720f",
   "metadata": {
    "scrolled": true
   },
   "outputs": [
    {
     "data": {
      "text/html": [
       "<div>\n",
       "<style scoped>\n",
       "    .dataframe tbody tr th:only-of-type {\n",
       "        vertical-align: middle;\n",
       "    }\n",
       "\n",
       "    .dataframe tbody tr th {\n",
       "        vertical-align: top;\n",
       "    }\n",
       "\n",
       "    .dataframe thead th {\n",
       "        text-align: right;\n",
       "    }\n",
       "</style>\n",
       "<table border=\"1\" class=\"dataframe\">\n",
       "  <thead>\n",
       "    <tr style=\"text-align: right;\">\n",
       "      <th></th>\n",
       "      <th>hoursplayed</th>\n",
       "    </tr>\n",
       "  </thead>\n",
       "  <tbody>\n",
       "    <tr>\n",
       "      <th>count</th>\n",
       "      <td>70489.000000</td>\n",
       "    </tr>\n",
       "    <tr>\n",
       "      <th>mean</th>\n",
       "      <td>48.878063</td>\n",
       "    </tr>\n",
       "    <tr>\n",
       "      <th>std</th>\n",
       "      <td>229.335236</td>\n",
       "    </tr>\n",
       "    <tr>\n",
       "      <th>min</th>\n",
       "      <td>0.100000</td>\n",
       "    </tr>\n",
       "    <tr>\n",
       "      <th>25%</th>\n",
       "      <td>1.000000</td>\n",
       "    </tr>\n",
       "    <tr>\n",
       "      <th>50%</th>\n",
       "      <td>4.500000</td>\n",
       "    </tr>\n",
       "    <tr>\n",
       "      <th>75%</th>\n",
       "      <td>19.100000</td>\n",
       "    </tr>\n",
       "    <tr>\n",
       "      <th>max</th>\n",
       "      <td>11754.000000</td>\n",
       "    </tr>\n",
       "  </tbody>\n",
       "</table>\n",
       "</div>"
      ],
      "text/plain": [
       "        hoursplayed\n",
       "count  70489.000000\n",
       "mean      48.878063\n",
       "std      229.335236\n",
       "min        0.100000\n",
       "25%        1.000000\n",
       "50%        4.500000\n",
       "75%       19.100000\n",
       "max    11754.000000"
      ]
     },
     "execution_count": 4,
     "metadata": {},
     "output_type": "execute_result"
    }
   ],
   "source": [
    "df_without_purchase = df.loc[df[\"behavior\"]==\"play\"]\n",
    "\n",
    "df_without_purchase.describe()"
   ]
  },
  {
   "cell_type": "code",
   "execution_count": 6,
   "id": "5eac26fb",
   "metadata": {},
   "outputs": [
    {
     "name": "stdout",
     "output_type": "stream",
     "text": [
      "mean\n"
     ]
    },
    {
     "data": {
      "text/plain": [
       "Index(['Eastside Hockey Manager', 'Baldur's Gate II Enhanced Edition',\n",
       "       'FIFA Manager 09', 'Perpetuum', 'Football Manager 2014',\n",
       "       'Football Manager 2012', 'Football Manager 2010',\n",
       "       'Football Manager 2011', 'Freaking Meatbags',\n",
       "       'Out of the Park Baseball 16',\n",
       "       ...\n",
       "       'Unity of Command', 'Victory At Sea',\n",
       "       'Agricultural Simulator 2011 Extended Edition', 'Dark Echo',\n",
       "       'Urizen Shadows of the Cold', 'Killing Floor Beta', 'Formula Fusion',\n",
       "       'Inside a Star-filled Sky ', 'Space Warp', 'Ohm Studio'],\n",
       "      dtype='object', name='game_name', length=3600)"
      ]
     },
     "execution_count": 6,
     "metadata": {},
     "output_type": "execute_result"
    }
   ],
   "source": [
    "print(\"mean\")\n",
    "df_without_purchase.groupby(['game_name']).mean().sort_values(by=\"hoursplayed\",ascending=False).head()\n",
    "\n",
    "\n",
    "\n",
    "test = df_without_purchase.groupby(['game_name']).mean().sort_values(by=\"hoursplayed\",ascending=False)\n",
    "test.index"
   ]
  },
  {
   "cell_type": "code",
   "execution_count": 5,
   "id": "897a6b62",
   "metadata": {},
   "outputs": [
    {
     "name": "stdout",
     "output_type": "stream",
     "text": [
      "sum\n"
     ]
    },
    {
     "data": {
      "text/html": [
       "<div>\n",
       "<style scoped>\n",
       "    .dataframe tbody tr th:only-of-type {\n",
       "        vertical-align: middle;\n",
       "    }\n",
       "\n",
       "    .dataframe tbody tr th {\n",
       "        vertical-align: top;\n",
       "    }\n",
       "\n",
       "    .dataframe thead th {\n",
       "        text-align: right;\n",
       "    }\n",
       "</style>\n",
       "<table border=\"1\" class=\"dataframe\">\n",
       "  <thead>\n",
       "    <tr style=\"text-align: right;\">\n",
       "      <th></th>\n",
       "      <th>hoursplayed</th>\n",
       "    </tr>\n",
       "    <tr>\n",
       "      <th>game_name</th>\n",
       "      <th></th>\n",
       "    </tr>\n",
       "  </thead>\n",
       "  <tbody>\n",
       "    <tr>\n",
       "      <th>Dota 2</th>\n",
       "      <td>981684.6</td>\n",
       "    </tr>\n",
       "    <tr>\n",
       "      <th>Counter-Strike Global Offensive</th>\n",
       "      <td>322771.6</td>\n",
       "    </tr>\n",
       "    <tr>\n",
       "      <th>Team Fortress 2</th>\n",
       "      <td>173673.3</td>\n",
       "    </tr>\n",
       "    <tr>\n",
       "      <th>Counter-Strike</th>\n",
       "      <td>134261.1</td>\n",
       "    </tr>\n",
       "    <tr>\n",
       "      <th>Sid Meier's Civilization V</th>\n",
       "      <td>99821.3</td>\n",
       "    </tr>\n",
       "  </tbody>\n",
       "</table>\n",
       "</div>"
      ],
      "text/plain": [
       "                                 hoursplayed\n",
       "game_name                                   \n",
       "Dota 2                              981684.6\n",
       "Counter-Strike Global Offensive     322771.6\n",
       "Team Fortress 2                     173673.3\n",
       "Counter-Strike                      134261.1\n",
       "Sid Meier's Civilization V           99821.3"
      ]
     },
     "execution_count": 5,
     "metadata": {},
     "output_type": "execute_result"
    }
   ],
   "source": [
    "print(\"sum\")\n",
    "df_without_purchase.groupby(['game_name']).sum().sort_values(by=\"hoursplayed\",ascending=False).head()"
   ]
  },
  {
   "cell_type": "code",
   "execution_count": 6,
   "id": "782f4c99",
   "metadata": {},
   "outputs": [
    {
     "name": "stdout",
     "output_type": "stream",
     "text": [
      "Number of unique games: 3600\n",
      "Number of unique users: 11350\n"
     ]
    }
   ],
   "source": [
    "print(f\"Number of unique games: {len(df_without_purchase['game_name'].unique())}\")\n",
    "print(f\"Number of unique users: {len(df_without_purchase['user'].unique())}\")"
   ]
  },
  {
   "cell_type": "code",
   "execution_count": 7,
   "id": "f8c47b5e",
   "metadata": {},
   "outputs": [
    {
     "data": {
      "image/png": "[encoded data removed]",
      "text/plain": [
       "<Figure size 432x360 with 1 Axes>"
      ]
     },
     "metadata": {
      "needs_background": "light"
     },
     "output_type": "display_data"
    }
   ],
   "source": [
    "to_plot = df_without_purchase.groupby('game_name')['user'].nunique().sort_values(ascending=False).head()\n",
    "ax = to_plot.plot(kind='bar', title='Number of players for Most Popular Games', ylabel='No. of players',\n",
    "         xlabel='Game', figsize=(6, 5))"
   ]
  },
  {
   "cell_type": "markdown",
   "id": "164f4188",
   "metadata": {},
   "source": [
    "###  hoursplayed\n"
   ]
  },
  {
   "cell_type": "code",
   "execution_count": 10,
   "id": "acb4294a",
   "metadata": {
    "scrolled": false
   },
   "outputs": [
    {
     "data": {
      "text/html": [
       "<div>\n",
       "<style scoped>\n",
       "    .dataframe tbody tr th:only-of-type {\n",
       "        vertical-align: middle;\n",
       "    }\n",
       "\n",
       "    .dataframe tbody tr th {\n",
       "        vertical-align: top;\n",
       "    }\n",
       "\n",
       "    .dataframe thead th {\n",
       "        text-align: right;\n",
       "    }\n",
       "</style>\n",
       "<table border=\"1\" class=\"dataframe\">\n",
       "  <thead>\n",
       "    <tr style=\"text-align: right;\">\n",
       "      <th></th>\n",
       "      <th>user</th>\n",
       "      <th>game_name</th>\n",
       "      <th>behavior</th>\n",
       "      <th>hoursplayed</th>\n",
       "    </tr>\n",
       "  </thead>\n",
       "  <tbody>\n",
       "    <tr>\n",
       "      <th>1</th>\n",
       "      <td>151603712</td>\n",
       "      <td>The Elder Scrolls V Skyrim</td>\n",
       "      <td>play</td>\n",
       "      <td>273.0</td>\n",
       "    </tr>\n",
       "    <tr>\n",
       "      <th>3</th>\n",
       "      <td>151603712</td>\n",
       "      <td>Fallout 4</td>\n",
       "      <td>play</td>\n",
       "      <td>87.0</td>\n",
       "    </tr>\n",
       "    <tr>\n",
       "      <th>5</th>\n",
       "      <td>151603712</td>\n",
       "      <td>Spore</td>\n",
       "      <td>play</td>\n",
       "      <td>14.9</td>\n",
       "    </tr>\n",
       "    <tr>\n",
       "      <th>7</th>\n",
       "      <td>151603712</td>\n",
       "      <td>Fallout New Vegas</td>\n",
       "      <td>play</td>\n",
       "      <td>12.1</td>\n",
       "    </tr>\n",
       "    <tr>\n",
       "      <th>9</th>\n",
       "      <td>151603712</td>\n",
       "      <td>Left 4 Dead 2</td>\n",
       "      <td>play</td>\n",
       "      <td>8.9</td>\n",
       "    </tr>\n",
       "    <tr>\n",
       "      <th>11</th>\n",
       "      <td>151603712</td>\n",
       "      <td>HuniePop</td>\n",
       "      <td>play</td>\n",
       "      <td>8.5</td>\n",
       "    </tr>\n",
       "    <tr>\n",
       "      <th>13</th>\n",
       "      <td>151603712</td>\n",
       "      <td>Path of Exile</td>\n",
       "      <td>play</td>\n",
       "      <td>8.1</td>\n",
       "    </tr>\n",
       "    <tr>\n",
       "      <th>15</th>\n",
       "      <td>151603712</td>\n",
       "      <td>Poly Bridge</td>\n",
       "      <td>play</td>\n",
       "      <td>7.5</td>\n",
       "    </tr>\n",
       "    <tr>\n",
       "      <th>17</th>\n",
       "      <td>151603712</td>\n",
       "      <td>Left 4 Dead</td>\n",
       "      <td>play</td>\n",
       "      <td>3.3</td>\n",
       "    </tr>\n",
       "    <tr>\n",
       "      <th>19</th>\n",
       "      <td>151603712</td>\n",
       "      <td>Team Fortress 2</td>\n",
       "      <td>play</td>\n",
       "      <td>2.8</td>\n",
       "    </tr>\n",
       "    <tr>\n",
       "      <th>21</th>\n",
       "      <td>151603712</td>\n",
       "      <td>Tomb Raider</td>\n",
       "      <td>play</td>\n",
       "      <td>2.5</td>\n",
       "    </tr>\n",
       "    <tr>\n",
       "      <th>23</th>\n",
       "      <td>151603712</td>\n",
       "      <td>The Banner Saga</td>\n",
       "      <td>play</td>\n",
       "      <td>2.0</td>\n",
       "    </tr>\n",
       "    <tr>\n",
       "      <th>25</th>\n",
       "      <td>151603712</td>\n",
       "      <td>Dead Island Epidemic</td>\n",
       "      <td>play</td>\n",
       "      <td>1.4</td>\n",
       "    </tr>\n",
       "    <tr>\n",
       "      <th>27</th>\n",
       "      <td>151603712</td>\n",
       "      <td>BioShock Infinite</td>\n",
       "      <td>play</td>\n",
       "      <td>1.3</td>\n",
       "    </tr>\n",
       "    <tr>\n",
       "      <th>29</th>\n",
       "      <td>151603712</td>\n",
       "      <td>Dragon Age Origins - Ultimate Edition</td>\n",
       "      <td>play</td>\n",
       "      <td>1.3</td>\n",
       "    </tr>\n",
       "    <tr>\n",
       "      <th>31</th>\n",
       "      <td>151603712</td>\n",
       "      <td>Fallout 3 - Game of the Year Edition</td>\n",
       "      <td>play</td>\n",
       "      <td>0.8</td>\n",
       "    </tr>\n",
       "    <tr>\n",
       "      <th>33</th>\n",
       "      <td>151603712</td>\n",
       "      <td>SEGA Genesis &amp; Mega Drive Classics</td>\n",
       "      <td>play</td>\n",
       "      <td>0.8</td>\n",
       "    </tr>\n",
       "    <tr>\n",
       "      <th>35</th>\n",
       "      <td>151603712</td>\n",
       "      <td>Grand Theft Auto IV</td>\n",
       "      <td>play</td>\n",
       "      <td>0.6</td>\n",
       "    </tr>\n",
       "    <tr>\n",
       "      <th>37</th>\n",
       "      <td>151603712</td>\n",
       "      <td>Realm of the Mad God</td>\n",
       "      <td>play</td>\n",
       "      <td>0.5</td>\n",
       "    </tr>\n",
       "    <tr>\n",
       "      <th>39</th>\n",
       "      <td>151603712</td>\n",
       "      <td>Marvel Heroes 2015</td>\n",
       "      <td>play</td>\n",
       "      <td>0.5</td>\n",
       "    </tr>\n",
       "    <tr>\n",
       "      <th>41</th>\n",
       "      <td>151603712</td>\n",
       "      <td>Eldevin</td>\n",
       "      <td>play</td>\n",
       "      <td>0.5</td>\n",
       "    </tr>\n",
       "    <tr>\n",
       "      <th>43</th>\n",
       "      <td>151603712</td>\n",
       "      <td>Dota 2</td>\n",
       "      <td>play</td>\n",
       "      <td>0.5</td>\n",
       "    </tr>\n",
       "    <tr>\n",
       "      <th>45</th>\n",
       "      <td>151603712</td>\n",
       "      <td>BioShock</td>\n",
       "      <td>play</td>\n",
       "      <td>0.5</td>\n",
       "    </tr>\n",
       "    <tr>\n",
       "      <th>47</th>\n",
       "      <td>151603712</td>\n",
       "      <td>Robocraft</td>\n",
       "      <td>play</td>\n",
       "      <td>0.4</td>\n",
       "    </tr>\n",
       "    <tr>\n",
       "      <th>49</th>\n",
       "      <td>151603712</td>\n",
       "      <td>Garry's Mod</td>\n",
       "      <td>play</td>\n",
       "      <td>0.1</td>\n",
       "    </tr>\n",
       "    <tr>\n",
       "      <th>51</th>\n",
       "      <td>151603712</td>\n",
       "      <td>Jazzpunk</td>\n",
       "      <td>play</td>\n",
       "      <td>0.1</td>\n",
       "    </tr>\n",
       "  </tbody>\n",
       "</table>\n",
       "</div>"
      ],
      "text/plain": [
       "         user                              game_name behavior  hoursplayed\n",
       "1   151603712             The Elder Scrolls V Skyrim     play        273.0\n",
       "3   151603712                              Fallout 4     play         87.0\n",
       "5   151603712                                  Spore     play         14.9\n",
       "7   151603712                      Fallout New Vegas     play         12.1\n",
       "9   151603712                          Left 4 Dead 2     play          8.9\n",
       "11  151603712                               HuniePop     play          8.5\n",
       "13  151603712                          Path of Exile     play          8.1\n",
       "15  151603712                            Poly Bridge     play          7.5\n",
       "17  151603712                            Left 4 Dead     play          3.3\n",
       "19  151603712                        Team Fortress 2     play          2.8\n",
       "21  151603712                            Tomb Raider     play          2.5\n",
       "23  151603712                        The Banner Saga     play          2.0\n",
       "25  151603712                   Dead Island Epidemic     play          1.4\n",
       "27  151603712                      BioShock Infinite     play          1.3\n",
       "29  151603712  Dragon Age Origins - Ultimate Edition     play          1.3\n",
       "31  151603712   Fallout 3 - Game of the Year Edition     play          0.8\n",
       "33  151603712     SEGA Genesis & Mega Drive Classics     play          0.8\n",
       "35  151603712                    Grand Theft Auto IV     play          0.6\n",
       "37  151603712                   Realm of the Mad God     play          0.5\n",
       "39  151603712                     Marvel Heroes 2015     play          0.5\n",
       "41  151603712                                Eldevin     play          0.5\n",
       "43  151603712                                 Dota 2     play          0.5\n",
       "45  151603712                               BioShock     play          0.5\n",
       "47  151603712                              Robocraft     play          0.4\n",
       "49  151603712                            Garry's Mod     play          0.1\n",
       "51  151603712                               Jazzpunk     play          0.1"
      ]
     },
     "execution_count": 10,
     "metadata": {},
     "output_type": "execute_result"
    }
   ],
   "source": [
    "df_without_purchase[df_without_purchase[\"user\"] == \"151603712\"]"
   ]
  },
  {
   "cell_type": "code",
   "execution_count": 9,
   "id": "02c39511",
   "metadata": {},
   "outputs": [],
   "source": [
    "\n",
    "totaltime = df_without_purchase.groupby(['user'],as_index=False).hoursplayed.sum()\n",
    "totaltime['totaltime'] = totaltime['hoursplayed']\n",
    "\n",
    "totaltime.drop('hoursplayed',axis=1,inplace=True)\n",
    "\n",
    "final_ratings = pd.merge(df_without_purchase,totaltime[['user','totaltime']],on='user')"
   ]
  },
  {
   "cell_type": "code",
   "execution_count": 10,
   "id": "9a2c9854",
   "metadata": {
    "scrolled": true
   },
   "outputs": [
    {
     "data": {
      "text/html": [
       "<div>\n",
       "<style scoped>\n",
       "    .dataframe tbody tr th:only-of-type {\n",
       "        vertical-align: middle;\n",
       "    }\n",
       "\n",
       "    .dataframe tbody tr th {\n",
       "        vertical-align: top;\n",
       "    }\n",
       "\n",
       "    .dataframe thead th {\n",
       "        text-align: right;\n",
       "    }\n",
       "</style>\n",
       "<table border=\"1\" class=\"dataframe\">\n",
       "  <thead>\n",
       "    <tr style=\"text-align: right;\">\n",
       "      <th></th>\n",
       "      <th>user</th>\n",
       "      <th>game_name</th>\n",
       "      <th>behavior</th>\n",
       "      <th>hoursplayed</th>\n",
       "      <th>totaltime</th>\n",
       "    </tr>\n",
       "  </thead>\n",
       "  <tbody>\n",
       "    <tr>\n",
       "      <th>0</th>\n",
       "      <td>151603712</td>\n",
       "      <td>The Elder Scrolls V Skyrim</td>\n",
       "      <td>play</td>\n",
       "      <td>273.0</td>\n",
       "      <td>439.9</td>\n",
       "    </tr>\n",
       "    <tr>\n",
       "      <th>1</th>\n",
       "      <td>151603712</td>\n",
       "      <td>Fallout 4</td>\n",
       "      <td>play</td>\n",
       "      <td>87.0</td>\n",
       "      <td>439.9</td>\n",
       "    </tr>\n",
       "    <tr>\n",
       "      <th>2</th>\n",
       "      <td>151603712</td>\n",
       "      <td>Spore</td>\n",
       "      <td>play</td>\n",
       "      <td>14.9</td>\n",
       "      <td>439.9</td>\n",
       "    </tr>\n",
       "    <tr>\n",
       "      <th>3</th>\n",
       "      <td>151603712</td>\n",
       "      <td>Fallout New Vegas</td>\n",
       "      <td>play</td>\n",
       "      <td>12.1</td>\n",
       "      <td>439.9</td>\n",
       "    </tr>\n",
       "    <tr>\n",
       "      <th>4</th>\n",
       "      <td>151603712</td>\n",
       "      <td>Left 4 Dead 2</td>\n",
       "      <td>play</td>\n",
       "      <td>8.9</td>\n",
       "      <td>439.9</td>\n",
       "    </tr>\n",
       "  </tbody>\n",
       "</table>\n",
       "</div>"
      ],
      "text/plain": [
       "        user                   game_name behavior  hoursplayed  totaltime\n",
       "0  151603712  The Elder Scrolls V Skyrim     play        273.0      439.9\n",
       "1  151603712                   Fallout 4     play         87.0      439.9\n",
       "2  151603712                       Spore     play         14.9      439.9\n",
       "3  151603712           Fallout New Vegas     play         12.1      439.9\n",
       "4  151603712               Left 4 Dead 2     play          8.9      439.9"
      ]
     },
     "execution_count": 10,
     "metadata": {},
     "output_type": "execute_result"
    }
   ],
   "source": [
    "final_ratings.head()"
   ]
  },
  {
   "cell_type": "code",
   "execution_count": 15,
   "id": "7c941b0c",
   "metadata": {},
   "outputs": [
    {
     "data": {
      "text/plain": [
       "<AxesSubplot:xlabel='score', ylabel='Count'>"
      ]
     },
     "execution_count": 15,
     "metadata": {},
     "output_type": "execute_result"
    },
    {
     "data": {
      "image/png": "[encoded data removed]",
      "text/plain": [
       "<Figure size 432x288 with 1 Axes>"
      ]
     },
     "metadata": {
      "needs_background": "light"
     },
     "output_type": "display_data"
    }
   ],
   "source": [
    "final_ratings['score'] = final_ratings['hoursplayed']/final_ratings['totaltime']\n",
    "x =final_ratings['score'] \n",
    "sns.histplot(x, kde=True)\n"
   ]
  },
  {
   "cell_type": "code",
   "execution_count": 12,
   "id": "c61e073d",
   "metadata": {},
   "outputs": [
    {
     "data": {
      "text/plain": [
       "<AxesSubplot:ylabel='Count'>"
      ]
     },
     "execution_count": 12,
     "metadata": {},
     "output_type": "execute_result"
    },
    {
     "data": {
      "image/png": "[encoded data removed]",
      "text/plain": [
       "<Figure size 432x288 with 1 Axes>"
      ]
     },
     "metadata": {
      "needs_background": "light"
     },
     "output_type": "display_data"
    }
   ],
   "source": [
    "log_x = x.map(math.log)\n",
    "sns.histplot(log_x, kde=True)"
   ]
  },
  {
   "cell_type": "code",
   "execution_count": 13,
   "id": "6a8b7e26",
   "metadata": {
    "scrolled": true
   },
   "outputs": [
    {
     "data": {
      "text/plain": [
       "<AxesSubplot:ylabel='Count'>"
      ]
     },
     "execution_count": 13,
     "metadata": {},
     "output_type": "execute_result"
    },
    {
     "data": {
      "image/png": "[encoded data removed]",
      "text/plain": [
       "<Figure size 432x288 with 1 Axes>"
      ]
     },
     "metadata": {
      "needs_background": "light"
     },
     "output_type": "display_data"
    }
   ],
   "source": [
    "sns.histplot(log_x, bins=5)"
   ]
  },
  {
   "cell_type": "code",
   "execution_count": 14,
   "id": "0a25b374",
   "metadata": {
    "scrolled": true
   },
   "outputs": [
    {
     "data": {
      "text/plain": [
       "array([-11.66579246,  -9.33263397,  -6.99947548,  -4.66631699,\n",
       "        -2.33315849,   0.        ])"
      ]
     },
     "execution_count": 14,
     "metadata": {},
     "output_type": "execute_result"
    }
   ],
   "source": [
    "_, bins = np.histogram(log_x,bins=5)\n",
    "bins"
   ]
  },
  {
   "cell_type": "code",
   "execution_count": 20,
   "id": "c097c5ac",
   "metadata": {},
   "outputs": [],
   "source": [
    "piv = final_ratings.pivot_table(index=['user'], columns=['game_name'], values='score')"
   ]
  },
  {
   "cell_type": "code",
   "execution_count": 21,
   "id": "f80c0023",
   "metadata": {},
   "outputs": [
    {
     "name": "stdout",
     "output_type": "stream",
     "text": [
      "(11350, 3600)\n"
     ]
    },
    {
     "data": {
      "text/html": [
       "<div>\n",
       "<style scoped>\n",
       "    .dataframe tbody tr th:only-of-type {\n",
       "        vertical-align: middle;\n",
       "    }\n",
       "\n",
       "    .dataframe tbody tr th {\n",
       "        vertical-align: top;\n",
       "    }\n",
       "\n",
       "    .dataframe thead th {\n",
       "        text-align: right;\n",
       "    }\n",
       "</style>\n",
       "<table border=\"1\" class=\"dataframe\">\n",
       "  <thead>\n",
       "    <tr style=\"text-align: right;\">\n",
       "      <th>game_name</th>\n",
       "      <th>007 Legends</th>\n",
       "      <th>0RBITALIS</th>\n",
       "      <th>1... 2... 3... KICK IT! (Drop That Beat Like an Ugly Baby)</th>\n",
       "      <th>10 Second Ninja</th>\n",
       "      <th>10,000,000</th>\n",
       "      <th>100% Orange Juice</th>\n",
       "      <th>1000 Amps</th>\n",
       "      <th>12 Labours of Hercules</th>\n",
       "      <th>12 Labours of Hercules II The Cretan Bull</th>\n",
       "      <th>12 Labours of Hercules III Girl Power</th>\n",
       "      <th>...</th>\n",
       "      <th>rFactor</th>\n",
       "      <th>rFactor 2</th>\n",
       "      <th>realMyst</th>\n",
       "      <th>realMyst Masterpiece Edition</th>\n",
       "      <th>resident evil 4 / biohazard 4</th>\n",
       "      <th>rymdkapsel</th>\n",
       "      <th>sZone-Online</th>\n",
       "      <th>the static speaks my name</th>\n",
       "      <th>theHunter</th>\n",
       "      <th>theHunter Primal</th>\n",
       "    </tr>\n",
       "    <tr>\n",
       "      <th>user</th>\n",
       "      <th></th>\n",
       "      <th></th>\n",
       "      <th></th>\n",
       "      <th></th>\n",
       "      <th></th>\n",
       "      <th></th>\n",
       "      <th></th>\n",
       "      <th></th>\n",
       "      <th></th>\n",
       "      <th></th>\n",
       "      <th></th>\n",
       "      <th></th>\n",
       "      <th></th>\n",
       "      <th></th>\n",
       "      <th></th>\n",
       "      <th></th>\n",
       "      <th></th>\n",
       "      <th></th>\n",
       "      <th></th>\n",
       "      <th></th>\n",
       "      <th></th>\n",
       "    </tr>\n",
       "  </thead>\n",
       "  <tbody>\n",
       "    <tr>\n",
       "      <th>100012061</th>\n",
       "      <td>NaN</td>\n",
       "      <td>NaN</td>\n",
       "      <td>NaN</td>\n",
       "      <td>NaN</td>\n",
       "      <td>NaN</td>\n",
       "      <td>NaN</td>\n",
       "      <td>NaN</td>\n",
       "      <td>NaN</td>\n",
       "      <td>NaN</td>\n",
       "      <td>NaN</td>\n",
       "      <td>...</td>\n",
       "      <td>NaN</td>\n",
       "      <td>NaN</td>\n",
       "      <td>NaN</td>\n",
       "      <td>NaN</td>\n",
       "      <td>NaN</td>\n",
       "      <td>NaN</td>\n",
       "      <td>NaN</td>\n",
       "      <td>NaN</td>\n",
       "      <td>NaN</td>\n",
       "      <td>NaN</td>\n",
       "    </tr>\n",
       "    <tr>\n",
       "      <th>100053304</th>\n",
       "      <td>NaN</td>\n",
       "      <td>NaN</td>\n",
       "      <td>NaN</td>\n",
       "      <td>NaN</td>\n",
       "      <td>NaN</td>\n",
       "      <td>NaN</td>\n",
       "      <td>NaN</td>\n",
       "      <td>NaN</td>\n",
       "      <td>NaN</td>\n",
       "      <td>NaN</td>\n",
       "      <td>...</td>\n",
       "      <td>NaN</td>\n",
       "      <td>NaN</td>\n",
       "      <td>NaN</td>\n",
       "      <td>NaN</td>\n",
       "      <td>NaN</td>\n",
       "      <td>NaN</td>\n",
       "      <td>NaN</td>\n",
       "      <td>NaN</td>\n",
       "      <td>NaN</td>\n",
       "      <td>NaN</td>\n",
       "    </tr>\n",
       "    <tr>\n",
       "      <th>100057229</th>\n",
       "      <td>NaN</td>\n",
       "      <td>NaN</td>\n",
       "      <td>NaN</td>\n",
       "      <td>NaN</td>\n",
       "      <td>NaN</td>\n",
       "      <td>NaN</td>\n",
       "      <td>NaN</td>\n",
       "      <td>NaN</td>\n",
       "      <td>NaN</td>\n",
       "      <td>NaN</td>\n",
       "      <td>...</td>\n",
       "      <td>NaN</td>\n",
       "      <td>NaN</td>\n",
       "      <td>NaN</td>\n",
       "      <td>NaN</td>\n",
       "      <td>NaN</td>\n",
       "      <td>NaN</td>\n",
       "      <td>NaN</td>\n",
       "      <td>NaN</td>\n",
       "      <td>NaN</td>\n",
       "      <td>NaN</td>\n",
       "    </tr>\n",
       "    <tr>\n",
       "      <th>100070732</th>\n",
       "      <td>NaN</td>\n",
       "      <td>NaN</td>\n",
       "      <td>NaN</td>\n",
       "      <td>NaN</td>\n",
       "      <td>NaN</td>\n",
       "      <td>NaN</td>\n",
       "      <td>NaN</td>\n",
       "      <td>NaN</td>\n",
       "      <td>NaN</td>\n",
       "      <td>NaN</td>\n",
       "      <td>...</td>\n",
       "      <td>NaN</td>\n",
       "      <td>NaN</td>\n",
       "      <td>NaN</td>\n",
       "      <td>NaN</td>\n",
       "      <td>NaN</td>\n",
       "      <td>NaN</td>\n",
       "      <td>NaN</td>\n",
       "      <td>NaN</td>\n",
       "      <td>NaN</td>\n",
       "      <td>NaN</td>\n",
       "    </tr>\n",
       "    <tr>\n",
       "      <th>100096071</th>\n",
       "      <td>NaN</td>\n",
       "      <td>NaN</td>\n",
       "      <td>NaN</td>\n",
       "      <td>NaN</td>\n",
       "      <td>NaN</td>\n",
       "      <td>NaN</td>\n",
       "      <td>NaN</td>\n",
       "      <td>NaN</td>\n",
       "      <td>NaN</td>\n",
       "      <td>NaN</td>\n",
       "      <td>...</td>\n",
       "      <td>NaN</td>\n",
       "      <td>NaN</td>\n",
       "      <td>NaN</td>\n",
       "      <td>NaN</td>\n",
       "      <td>NaN</td>\n",
       "      <td>NaN</td>\n",
       "      <td>NaN</td>\n",
       "      <td>NaN</td>\n",
       "      <td>NaN</td>\n",
       "      <td>NaN</td>\n",
       "    </tr>\n",
       "  </tbody>\n",
       "</table>\n",
       "<p>5 rows × 3600 columns</p>\n",
       "</div>"
      ],
      "text/plain": [
       "game_name  007 Legends  0RBITALIS  \\\n",
       "user                                \n",
       "100012061          NaN        NaN   \n",
       "100053304          NaN        NaN   \n",
       "100057229          NaN        NaN   \n",
       "100070732          NaN        NaN   \n",
       "100096071          NaN        NaN   \n",
       "\n",
       "game_name  1... 2... 3... KICK IT! (Drop That Beat Like an Ugly Baby)  \\\n",
       "user                                                                    \n",
       "100012061                                                NaN            \n",
       "100053304                                                NaN            \n",
       "100057229                                                NaN            \n",
       "100070732                                                NaN            \n",
       "100096071                                                NaN            \n",
       "\n",
       "game_name  10 Second Ninja  10,000,000  100% Orange Juice  1000 Amps  \\\n",
       "user                                                                   \n",
       "100012061              NaN         NaN                NaN        NaN   \n",
       "100053304              NaN         NaN                NaN        NaN   \n",
       "100057229              NaN         NaN                NaN        NaN   \n",
       "100070732              NaN         NaN                NaN        NaN   \n",
       "100096071              NaN         NaN                NaN        NaN   \n",
       "\n",
       "game_name  12 Labours of Hercules  12 Labours of Hercules II The Cretan Bull  \\\n",
       "user                                                                           \n",
       "100012061                     NaN                                        NaN   \n",
       "100053304                     NaN                                        NaN   \n",
       "100057229                     NaN                                        NaN   \n",
       "100070732                     NaN                                        NaN   \n",
       "100096071                     NaN                                        NaN   \n",
       "\n",
       "game_name  12 Labours of Hercules III Girl Power  ...  rFactor  rFactor 2  \\\n",
       "user                                              ...                       \n",
       "100012061                                    NaN  ...      NaN        NaN   \n",
       "100053304                                    NaN  ...      NaN        NaN   \n",
       "100057229                                    NaN  ...      NaN        NaN   \n",
       "100070732                                    NaN  ...      NaN        NaN   \n",
       "100096071                                    NaN  ...      NaN        NaN   \n",
       "\n",
       "game_name  realMyst  realMyst Masterpiece Edition  \\\n",
       "user                                                \n",
       "100012061       NaN                           NaN   \n",
       "100053304       NaN                           NaN   \n",
       "100057229       NaN                           NaN   \n",
       "100070732       NaN                           NaN   \n",
       "100096071       NaN                           NaN   \n",
       "\n",
       "game_name  resident evil 4 / biohazard 4  rymdkapsel  sZone-Online  \\\n",
       "user                                                                 \n",
       "100012061                            NaN         NaN           NaN   \n",
       "100053304                            NaN         NaN           NaN   \n",
       "100057229                            NaN         NaN           NaN   \n",
       "100070732                            NaN         NaN           NaN   \n",
       "100096071                            NaN         NaN           NaN   \n",
       "\n",
       "game_name  the static speaks my name  theHunter  theHunter Primal  \n",
       "user                                                               \n",
       "100012061                        NaN        NaN               NaN  \n",
       "100053304                        NaN        NaN               NaN  \n",
       "100057229                        NaN        NaN               NaN  \n",
       "100070732                        NaN        NaN               NaN  \n",
       "100096071                        NaN        NaN               NaN  \n",
       "\n",
       "[5 rows x 3600 columns]"
      ]
     },
     "execution_count": 21,
     "metadata": {},
     "output_type": "execute_result"
    }
   ],
   "source": [
    "print(piv.shape)\n",
    "piv.head()"
   ]
  },
  {
   "cell_type": "code",
   "execution_count": 22,
   "id": "6fec5dff",
   "metadata": {},
   "outputs": [],
   "source": [
    "# Drop all columns containing only zeros representing users who did not rate\n",
    "piv_norm.fillna(0, inplace=True)\n",
    "piv_norm = piv_norm\n",
    "piv_norm = piv_norm.loc[:, (piv_norm != 0).any(axis=0)]"
   ]
  },
  {
   "cell_type": "code",
   "execution_count": 23,
   "id": "c2fd6aa6",
   "metadata": {},
   "outputs": [
    {
     "data": {
      "text/plain": [
       "(11350, 3576)"
      ]
     },
     "execution_count": 23,
     "metadata": {},
     "output_type": "execute_result"
    }
   ],
   "source": [
    "piv_norm.shape"
   ]
  },
  {
   "cell_type": "code",
   "execution_count": 25,
   "id": "a9a2ca36",
   "metadata": {
    "scrolled": false
   },
   "outputs": [
    {
     "data": {
      "text/html": [
       "<div>\n",
       "<style scoped>\n",
       "    .dataframe tbody tr th:only-of-type {\n",
       "        vertical-align: middle;\n",
       "    }\n",
       "\n",
       "    .dataframe tbody tr th {\n",
       "        vertical-align: top;\n",
       "    }\n",
       "\n",
       "    .dataframe thead th {\n",
       "        text-align: right;\n",
       "    }\n",
       "</style>\n",
       "<table border=\"1\" class=\"dataframe\">\n",
       "  <thead>\n",
       "    <tr style=\"text-align: right;\">\n",
       "      <th>game_name</th>\n",
       "      <th>007 Legends</th>\n",
       "      <th>0RBITALIS</th>\n",
       "      <th>1... 2... 3... KICK IT! (Drop That Beat Like an Ugly Baby)</th>\n",
       "      <th>10 Second Ninja</th>\n",
       "      <th>10,000,000</th>\n",
       "      <th>100% Orange Juice</th>\n",
       "      <th>1000 Amps</th>\n",
       "      <th>12 Labours of Hercules</th>\n",
       "      <th>12 Labours of Hercules II The Cretan Bull</th>\n",
       "      <th>12 Labours of Hercules III Girl Power</th>\n",
       "      <th>...</th>\n",
       "      <th>rFactor</th>\n",
       "      <th>rFactor 2</th>\n",
       "      <th>realMyst</th>\n",
       "      <th>realMyst Masterpiece Edition</th>\n",
       "      <th>resident evil 4 / biohazard 4</th>\n",
       "      <th>rymdkapsel</th>\n",
       "      <th>sZone-Online</th>\n",
       "      <th>the static speaks my name</th>\n",
       "      <th>theHunter</th>\n",
       "      <th>theHunter Primal</th>\n",
       "    </tr>\n",
       "    <tr>\n",
       "      <th>user</th>\n",
       "      <th></th>\n",
       "      <th></th>\n",
       "      <th></th>\n",
       "      <th></th>\n",
       "      <th></th>\n",
       "      <th></th>\n",
       "      <th></th>\n",
       "      <th></th>\n",
       "      <th></th>\n",
       "      <th></th>\n",
       "      <th></th>\n",
       "      <th></th>\n",
       "      <th></th>\n",
       "      <th></th>\n",
       "      <th></th>\n",
       "      <th></th>\n",
       "      <th></th>\n",
       "      <th></th>\n",
       "      <th></th>\n",
       "      <th></th>\n",
       "      <th></th>\n",
       "    </tr>\n",
       "  </thead>\n",
       "  <tbody>\n",
       "    <tr>\n",
       "      <th>100012061</th>\n",
       "      <td>0.0</td>\n",
       "      <td>0.0</td>\n",
       "      <td>0.0</td>\n",
       "      <td>0.0</td>\n",
       "      <td>0.0</td>\n",
       "      <td>0.0</td>\n",
       "      <td>0.0</td>\n",
       "      <td>0.0</td>\n",
       "      <td>0.0</td>\n",
       "      <td>0.0</td>\n",
       "      <td>...</td>\n",
       "      <td>0.0</td>\n",
       "      <td>0.0</td>\n",
       "      <td>0.0</td>\n",
       "      <td>0.0</td>\n",
       "      <td>0.0</td>\n",
       "      <td>0.0</td>\n",
       "      <td>0.0</td>\n",
       "      <td>0.0</td>\n",
       "      <td>0.0</td>\n",
       "      <td>0.0</td>\n",
       "    </tr>\n",
       "    <tr>\n",
       "      <th>100053304</th>\n",
       "      <td>0.0</td>\n",
       "      <td>0.0</td>\n",
       "      <td>0.0</td>\n",
       "      <td>0.0</td>\n",
       "      <td>0.0</td>\n",
       "      <td>0.0</td>\n",
       "      <td>0.0</td>\n",
       "      <td>0.0</td>\n",
       "      <td>0.0</td>\n",
       "      <td>0.0</td>\n",
       "      <td>...</td>\n",
       "      <td>0.0</td>\n",
       "      <td>0.0</td>\n",
       "      <td>0.0</td>\n",
       "      <td>0.0</td>\n",
       "      <td>0.0</td>\n",
       "      <td>0.0</td>\n",
       "      <td>0.0</td>\n",
       "      <td>0.0</td>\n",
       "      <td>0.0</td>\n",
       "      <td>0.0</td>\n",
       "    </tr>\n",
       "    <tr>\n",
       "      <th>100057229</th>\n",
       "      <td>0.0</td>\n",
       "      <td>0.0</td>\n",
       "      <td>0.0</td>\n",
       "      <td>0.0</td>\n",
       "      <td>0.0</td>\n",
       "      <td>0.0</td>\n",
       "      <td>0.0</td>\n",
       "      <td>0.0</td>\n",
       "      <td>0.0</td>\n",
       "      <td>0.0</td>\n",
       "      <td>...</td>\n",
       "      <td>0.0</td>\n",
       "      <td>0.0</td>\n",
       "      <td>0.0</td>\n",
       "      <td>0.0</td>\n",
       "      <td>0.0</td>\n",
       "      <td>0.0</td>\n",
       "      <td>0.0</td>\n",
       "      <td>0.0</td>\n",
       "      <td>0.0</td>\n",
       "      <td>0.0</td>\n",
       "    </tr>\n",
       "    <tr>\n",
       "      <th>100070732</th>\n",
       "      <td>0.0</td>\n",
       "      <td>0.0</td>\n",
       "      <td>0.0</td>\n",
       "      <td>0.0</td>\n",
       "      <td>0.0</td>\n",
       "      <td>0.0</td>\n",
       "      <td>0.0</td>\n",
       "      <td>0.0</td>\n",
       "      <td>0.0</td>\n",
       "      <td>0.0</td>\n",
       "      <td>...</td>\n",
       "      <td>0.0</td>\n",
       "      <td>0.0</td>\n",
       "      <td>0.0</td>\n",
       "      <td>0.0</td>\n",
       "      <td>0.0</td>\n",
       "      <td>0.0</td>\n",
       "      <td>0.0</td>\n",
       "      <td>0.0</td>\n",
       "      <td>0.0</td>\n",
       "      <td>0.0</td>\n",
       "    </tr>\n",
       "    <tr>\n",
       "      <th>100096071</th>\n",
       "      <td>0.0</td>\n",
       "      <td>0.0</td>\n",
       "      <td>0.0</td>\n",
       "      <td>0.0</td>\n",
       "      <td>0.0</td>\n",
       "      <td>0.0</td>\n",
       "      <td>0.0</td>\n",
       "      <td>0.0</td>\n",
       "      <td>0.0</td>\n",
       "      <td>0.0</td>\n",
       "      <td>...</td>\n",
       "      <td>0.0</td>\n",
       "      <td>0.0</td>\n",
       "      <td>0.0</td>\n",
       "      <td>0.0</td>\n",
       "      <td>0.0</td>\n",
       "      <td>0.0</td>\n",
       "      <td>0.0</td>\n",
       "      <td>0.0</td>\n",
       "      <td>0.0</td>\n",
       "      <td>0.0</td>\n",
       "    </tr>\n",
       "  </tbody>\n",
       "</table>\n",
       "<p>5 rows × 3576 columns</p>\n",
       "</div>"
      ],
      "text/plain": [
       "game_name  007 Legends  0RBITALIS  \\\n",
       "user                                \n",
       "100012061          0.0        0.0   \n",
       "100053304          0.0        0.0   \n",
       "100057229          0.0        0.0   \n",
       "100070732          0.0        0.0   \n",
       "100096071          0.0        0.0   \n",
       "\n",
       "game_name  1... 2... 3... KICK IT! (Drop That Beat Like an Ugly Baby)  \\\n",
       "user                                                                    \n",
       "100012061                                                0.0            \n",
       "100053304                                                0.0            \n",
       "100057229                                                0.0            \n",
       "100070732                                                0.0            \n",
       "100096071                                                0.0            \n",
       "\n",
       "game_name  10 Second Ninja  10,000,000  100% Orange Juice  1000 Amps  \\\n",
       "user                                                                   \n",
       "100012061              0.0         0.0                0.0        0.0   \n",
       "100053304              0.0         0.0                0.0        0.0   \n",
       "100057229              0.0         0.0                0.0        0.0   \n",
       "100070732              0.0         0.0                0.0        0.0   \n",
       "100096071              0.0         0.0                0.0        0.0   \n",
       "\n",
       "game_name  12 Labours of Hercules  12 Labours of Hercules II The Cretan Bull  \\\n",
       "user                                                                           \n",
       "100012061                     0.0                                        0.0   \n",
       "100053304                     0.0                                        0.0   \n",
       "100057229                     0.0                                        0.0   \n",
       "100070732                     0.0                                        0.0   \n",
       "100096071                     0.0                                        0.0   \n",
       "\n",
       "game_name  12 Labours of Hercules III Girl Power  ...  rFactor  rFactor 2  \\\n",
       "user                                              ...                       \n",
       "100012061                                    0.0  ...      0.0        0.0   \n",
       "100053304                                    0.0  ...      0.0        0.0   \n",
       "100057229                                    0.0  ...      0.0        0.0   \n",
       "100070732                                    0.0  ...      0.0        0.0   \n",
       "100096071                                    0.0  ...      0.0        0.0   \n",
       "\n",
       "game_name  realMyst  realMyst Masterpiece Edition  \\\n",
       "user                                                \n",
       "100012061       0.0                           0.0   \n",
       "100053304       0.0                           0.0   \n",
       "100057229       0.0                           0.0   \n",
       "100070732       0.0                           0.0   \n",
       "100096071       0.0                           0.0   \n",
       "\n",
       "game_name  resident evil 4 / biohazard 4  rymdkapsel  sZone-Online  \\\n",
       "user                                                                 \n",
       "100012061                            0.0         0.0           0.0   \n",
       "100053304                            0.0         0.0           0.0   \n",
       "100057229                            0.0         0.0           0.0   \n",
       "100070732                            0.0         0.0           0.0   \n",
       "100096071                            0.0         0.0           0.0   \n",
       "\n",
       "game_name  the static speaks my name  theHunter  theHunter Primal  \n",
       "user                                                               \n",
       "100012061                        0.0        0.0               0.0  \n",
       "100053304                        0.0        0.0               0.0  \n",
       "100057229                        0.0        0.0               0.0  \n",
       "100070732                        0.0        0.0               0.0  \n",
       "100096071                        0.0        0.0               0.0  \n",
       "\n",
       "[5 rows x 3576 columns]"
      ]
     },
     "execution_count": 25,
     "metadata": {},
     "output_type": "execute_result"
    }
   ],
   "source": [
    "piv_norm.head()"
   ]
  },
  {
   "cell_type": "code",
   "execution_count": 27,
   "id": "5d3e6c9d",
   "metadata": {},
   "outputs": [
    {
     "name": "stderr",
     "output_type": "stream",
     "text": [
      "/home/obxd/src/game_hybrid_recommendation/.venv/lib/python3.10/site-packages/sklearn/base.py:450: UserWarning: X does not have valid feature names, but NearestNeighbors was fitted with feature names\n",
      "  warnings.warn(\n"
     ]
    },
    {
     "data": {
      "text/plain": [
       "(array([[146.42615714, 146.42716457, 146.42861185, 146.43099086,\n",
       "         146.43179334, 146.43235894, 146.43255727, 146.43295047,\n",
       "         146.4373777 , 146.43828351]]),\n",
       " array([[10388,  3294, 10432,  1945,  1139,  9567,   298, 11053, 11138,\n",
       "          6740]]))"
      ]
     },
     "execution_count": 27,
     "metadata": {},
     "output_type": "execute_result"
    }
   ],
   "source": [
    "from sklearn.neighbors import NearestNeighbors\n",
    "\n",
    "neigh = NearestNeighbors(n_neighbors=10)\n",
    "neigh.fit(piv_norm)\n",
    "\n",
    "neigh.kneighbors([[i%5 for i in range(3576)]])\n"
   ]
  },
  {
   "cell_type": "code",
   "execution_count": 28,
   "id": "4c20ff3d",
   "metadata": {},
   "outputs": [
    {
     "data": {
      "text/plain": [
       "game_name\n",
       "The Elder Scrolls V Skyrim                0.789990\n",
       "Euro Truck Simulator 2                    0.771087\n",
       "LEGO MARVEL Super Heroes                  0.745882\n",
       "Just Cause 2                              0.197678\n",
       "Fallout New Vegas                         0.191376\n",
       "                                            ...   \n",
       "King Arthur - The Role-playing Wargame   -0.203709\n",
       "Unturned                                 -0.206229\n",
       "Far Cry 2                                -0.206229\n",
       "Half-Life Opposing Force                 -0.207489\n",
       "Nosgoth                                  -0.210010\n",
       "Name: 100096071, Length: 3576, dtype: float64"
      ]
     },
     "execution_count": 28,
     "metadata": {},
     "output_type": "execute_result"
    }
   ],
   "source": [
    "piv_norm.loc[\"100096071\"].sort_values( ascending=False)"
   ]
  },
  {
   "cell_type": "code",
   "execution_count": 29,
   "id": "09f885a3",
   "metadata": {
    "scrolled": false
   },
   "outputs": [
    {
     "data": {
      "text/plain": [
       "Index(['The Elder Scrolls V Skyrim', 'Euro Truck Simulator 2',\n",
       "       'LEGO MARVEL Super Heroes', 'Just Cause 2', 'Fallout New Vegas',\n",
       "       '007 Legends', 'Realm of the Mad God', 'Rayman Origins',\n",
       "       'Razor2 Hidden Skies', 'Reach for the Sun',\n",
       "       ...\n",
       "       'DOOM 3', 'Marvel Heroes 2015', 'Dota 2', 'DC Universe Online',\n",
       "       'Half-Life 2 Episode One', 'King Arthur - The Role-playing Wargame',\n",
       "       'Unturned', 'Far Cry 2', 'Half-Life Opposing Force', 'Nosgoth'],\n",
       "      dtype='object', name='game_name', length=3576)"
      ]
     },
     "execution_count": 29,
     "metadata": {},
     "output_type": "execute_result"
    }
   ],
   "source": [
    "piv_norm.loc[\"100096071\"].sort_values( ascending=False).index"
   ]
  }
 ],
 "metadata": {
  "kernelspec": {
   "display_name": "yaniv",
   "language": "python",
   "name": "yaniv"
  },
  "language_info": {
   "codemirror_mode": {
    "name": "ipython",
    "version": 3
   },
   "file_extension": ".py",
   "mimetype": "text/x-python",
   "name": "python",
   "nbconvert_exporter": "python",
   "pygments_lexer": "ipython3",
   "version": "3.10.2"
  }
 },
 "nbformat": 4,
 "nbformat_minor": 5
}
